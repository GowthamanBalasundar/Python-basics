{
  "nbformat": 4,
  "nbformat_minor": 0,
  "metadata": {
    "colab": {
      "provenance": []
    },
    "kernelspec": {
      "name": "python3",
      "display_name": "Python 3"
    },
    "language_info": {
      "name": "python"
    }
  },
  "cells": [
    {
      "cell_type": "code",
      "execution_count": null,
      "metadata": {
        "id": "la-nzcSynDUq"
      },
      "outputs": [],
      "source": []
    },
    {
      "cell_type": "markdown",
      "source": [
        "**1. What is Python, and why is it popular?**\n",
        "\n",
        "Python is a high-level, interpreted, general-purpose programming language. It was created by Guido van Rossum and first released in 1991.\n",
        "Why is it popular>>\n",
        " Readability and Simplicity: Python's syntax is designed to be highly readable, resembling natural language more than many other programming languages. This makes it easier to learn, write, and maintain code.\n",
        "  Versatility/General-Purpose: Python can be used for a vast range of applications, including: Web development (Django, Flask),Data science and machine learning (NumPy, pandas, scikit-learn, TensorFlow, PyTorch), Artificial intelligence ,Automation and scripting, Game development etc.\n",
        "  Large Standard Library: Python comes with a \"batteries-included\" philosophy, offering a rich standard library that provides modules and packages for various tasks, reducing the need to write code from scratch.\n",
        " Extensive Ecosystem and Community Support: It has a massive and active community, leading to a wealth of third-party libraries, frameworks, tutorials, and support available online.\n",
        "    Cross-platform Compatibility: Python code can run on various operating systems (Windows, macOS, Linux, etc.) with little to no modification.\n",
        " Interpreted Language: This allows for rapid development and testing, as you don't need to compile the code before running it.\n",
        "\n",
        "**2.What is an interpreter in Python?**\n",
        "\n",
        "In Python, an interpreter is a program that directly executes instructions written in a programming language, without requiring them to be previously compiled into a machine-language program.\n",
        "When you run a Python script, the interpreter reads your code line by line, translates each line into machine code, and then executes it immediately. This is in contrast to compiled languages (like C++ or Java), where the entire code is translated into an executable file before execution.\n",
        "The Python interpreter is responsible for:\n",
        "    Parsing the Python code (checking for syntax errors).\n",
        "    Translating the code into bytecode.\n",
        "    Executing the bytecode on the Python Virtual Machine (PVM).\n",
        "\n",
        "3**.What are pre-defined keywords in Python**?\n",
        "\n",
        "  Pre-defined keywords (also known as reserved words) in Python are special words that have a specific meaning and purpose in the language. They are part of Python's syntax and structure and cannot be used for any other purpose, such as variable names, function names, or class names.\n",
        "\n",
        " Examples of Python keywords include: if, else, while, for, def, class, import, True, False, None, and, or, not, in, is, return, yield, try, except, finally, with, as,etc.\n",
        "\n",
        "4.Can keywords be used as variable names?\n",
        "No, keywords cannot be used as variable names (or any other identifier like function names, class names, etc.) in Python.If you try to use a keyword as an identifier, Python will raise a SyntaxError. This is because keywords have a predefined meaning to the interpreter, and using them otherwise would create ambiguity and lead to parsing errors.\n",
        "5. What is mutability in Python?\n",
        "Mutability in Python refers to whether an object's state (its value or content) can be changed after it has been created.  Mutable objects can be modified after creation. Operations like adding, removing, or changing elements within the object are allowed. Immutable objects cannot be changed after creation. Any operation that appears to modify an immutable object actually creates a new object.\n",
        "**6. Why are lists mutable, but tuples are immutable?**\n",
        "\n",
        "Lists are mutable:\n",
        "        They are designed to be dynamic collections where elements can be added, removed, or changed.This makes them suitable for scenarios where you need to manage a collection of items that might change over time (e.g., a shopping cart, a list of tasks).Operations like append(), insert(), remove(), pop(), and direct assignment to elements (my_list[0] = new_value) are all valid.\n",
        "Tuples are immutable:\n",
        "        They are designed to represent fixed collections of items that should not change.\n",
        "        This immutability provides several benefits:\n",
        "            Data Integrity: Once a tuple is created, you can be sure its contents won't be accidentally modified, which is useful for representing fixed records or configurations.\n",
        "            Used as Dictionary Keys: Because they are immutable, tuples can be used as keys in dictionaries (which require their keys to be hashable, and mutable objects are not hashable).\n",
        "            Performance: Immutability can sometimes lead to minor performance optimizations as the interpreter doesn't need to account for potential in-place modifications.\n",
        "            Thread Safety: In concurrent programming, immutable objects are inherently thread-safe because their state cannot be changed by multiple threads simultaneously.\n",
        "\n",
        "**7.What is the difference between “==” and “is” operators in Python?**\n",
        "\n",
        "    == (Equality operator):\n",
        "        Compares the values of two objects.\n",
        "        Returns True if the objects have the same content or value.\n",
        "        It checks for value equality.\n",
        "\n",
        "    is (Identity operator):\n",
        "        Compares the identity of two objects.\n",
        "        Returns True if two variables point to the exact same object in memory.\n",
        "        It checks for object identity (i.e., if they refer to the same memory address).\n",
        "\n",
        "Example:\n",
        "\n",
        "list1 = [1, 2, 3]\n",
        "list2 = [1, 2, 3]\n",
        "list3 = list1\n",
        "\n",
        "print(list1 == list2) # True (values are the same)\n",
        "print(list1 is list2) # False (they are separate objects in memory)\n",
        "print(list1 is list3) # True (list3 refers to the exact same object as list1)\n",
        "\n",
        "a = 10\n",
        "b = 10\n",
        "print(a == b) # True\n",
        "print(a is b) # True (for small integers and some strings, Python often optimizes by pointing to the same object)\n",
        "\n",
        "**8.What are logical operators in Python?**\n",
        "\n",
        "Logical operators are used to combine conditional statements (Boolean expressions) and evaluate their truthfulness. Python has three logical operators:\n",
        "and: Returns True if both operands are True. Otherwise, it returns False.\n",
        "Example:\n",
        "print(True and True)   # True\n",
        "print(True and False)  # False\n",
        "print(False and True)  # False\n",
        "print(False and False) # False\n",
        "\n",
        "or: Returns True if at least one of the operands is True. It returns False only if both operands are False.\n",
        "Example:\n",
        "print(True or True)   # True\n",
        "print(True or False)  # True\n",
        "print(False or True)  # True\n",
        "print(False or False) # False\n",
        "\n",
        "not: Reverses the logical state of its operand. If an operand is True, not makes it False, and vice-versa.\n",
        "Example:\n",
        "    print(not True)  # False\n",
        "    print(not False) # True\n",
        "\n",
        "**9.What is type casting in Python?**\n",
        "\n",
        "Type casting (or type conversion) in Python is the process of converting a variable or value from one data type to another. This is often necessary when you need to perform operations that require specific data types, or when you receive data in one format and need to use it in another.\n",
        "\n",
        "Python provides built-in functions for explicit type casting:\n",
        "\n",
        "    int(): Converts to an integer.\n",
        "    float(): Converts to a floating-point number.\n",
        "    str(): Converts to a string.\n",
        "    list(): Converts to a list.\n",
        "    tuple(): Converts to a tuple.\n",
        "    set(): Converts to a set.\n",
        "    bool(): Converts to a boolean.\n",
        "\n",
        "Example:\n",
        "num_str = \"123\"\n",
        "num_int = int(num_str)  # Converts string to integer\n",
        "print(type(num_int))    # <class 'int'>\n",
        "\n",
        "pi_str = \"3.14\"\n",
        "pi_float = float(pi_str) # Converts string to float\n",
        "print(type(pi_float))   # <class 'float'>\n",
        "\n",
        "num = 50\n",
        "num_string = str(num)   # Converts integer to string\n",
        "print(type(num_string)) # <class 'str'>\n",
        "\n",
        "**10.What is the difference between implicit and explicit type casting?**\n",
        "\n",
        "The difference lies in how the type conversion is initiated:\n",
        "Implicit Type Casting (Coercion):\n",
        " This happens automatically by the Python interpreter during an operation without any explicit instruction from the programmer. Python promotes smaller data types to larger data types to avoid data loss.This usually occurs in arithmetic operations.\n",
        "      Example:\n",
        "    integer_num = 10\n",
        "    float_num = 5.5\n",
        "    result = integer_num + float_num # integer_num is implicitly converted to float\n",
        "    print(result)                   # 15.5\n",
        "    print(type(result))             # <class 'float'>\n",
        "\n",
        "    In this case, integer_num is implicitly converted to a float before the addition, resulting in a float.\n",
        "\n",
        "Explicit Type Casting (Type Conversion):\n",
        "\n",
        "    This is done deliberately by the programmer using built-in functions (like int(), float(), str(), etc.).\n",
        "    You explicitly tell Python to convert a value from one type to another.\n",
        "    This is necessary when implicit conversion won't occur or would lead to an error.\n",
        "    Example:\n",
        "        num_string = \"123\"\n",
        "        num_integer = int(num_string) # Explicitly converting string to integer\n",
        "        print(num_integer)            # 123\n",
        "        print(type(num_integer))      # <class 'int'>\n",
        "\n",
        "        Here, we explicitly use int() to convert the string num_string into an integer.\n",
        "\n",
        "11.What is the purpose of conditional statements in Python?\n",
        "\n",
        "The purpose of conditional statements in Python is to execute different blocks of code based on whether certain conditions are True or False. They allow your program to make decisions and behave dynamically based on input, data, or various circumstances.\n",
        "The primary conditional statements are:\n",
        "    if: Executes a block of code if a condition is True.\n",
        "    elif (else if): Provides an alternative condition to check if the preceding if or elif conditions were False.\n",
        "    else: Executes a block of code if all preceding if and elif conditions were False.\n",
        "\n",
        "Example:\n",
        "\n",
        "age = 20\n",
        "if age >= 18:\n",
        "    print(\"You are an adult.\")\n",
        "else:\n",
        "    print(\"You are a minor.\")\n",
        "\n",
        "**12.How does the elif statement work?**\n",
        "\n",
        "The elif (short for \"else if\") statement in Python is used in conjunction with an if statement (and optionally an else statement) to test multiple conditions sequentially.\n",
        "\n",
        "Here's how it works:\n",
        "\n",
        "    The if condition is evaluated first.\n",
        "    If the if condition is True, its corresponding block of code is executed, and the rest of the elif and else blocks in that chain are skipped.\n",
        "    If the if condition is False, then the first elif condition is evaluated.\n",
        "    If the elif condition is True, its corresponding block of code is executed, and any subsequent elif or else blocks are skipped.\n",
        "   This process continues down the chain of elif statements.\n",
        "    If none of the if or elif conditions are True, and an else statement is present, its block of code is executed.\n",
        "\n",
        "Important points:\n",
        " You can have zero or more elif statements after an if statement.\n",
        " Only one block of code within an if-elif-else chain will ever be executed (the first one whose condition evaluates to True).\n",
        "\n",
        "Example:\n",
        "score = 85\n",
        "if score >= 90:\n",
        "    print(\"Grade: A\")\n",
        "elif score >= 80:\n",
        "    print(\"Grade: B\") # This block will be executed\n",
        "elif score >= 70:\n",
        "    print(\"Grade: C\")\n",
        "else:\n",
        "    print(\"Grade: F\")\n",
        "\n",
        "**13.What is the difference between for and while loops?**\n",
        "\n",
        "Both for and while loops are used for iteration (repeating a block of code), but they differ in their primary use cases and control mechanisms:\n",
        "\n",
        "    for loop:\n",
        "        Purpose: Primarily used for iterating over a sequence (like a list, tuple, string, dictionary, or range) or any iterable object. It's ideal when you know the number of iterations in advance or when you want to process each item in a collection.\n",
        "        Control: It automatically handles the iteration and termination once all items in the sequence have been processed.\n",
        "\n",
        "Example:\n",
        "    fruits = [\"apple\", \"banana\", \"cherry\"]\n",
        "    for fruit in fruits:\n",
        "        print(fruit)\n",
        "\n",
        "while loop:\n",
        " Purpose: Used for repeating a block of code as long as a certain condition remains True. It's ideal when you don't know the exact number of iterations beforehand and the loop's continuation depends on a condition being met.\n",
        "    Control: The loop continues as long as the specified condition is True. You must ensure that the condition eventually becomes False within the loop to avoid an infinite loop.\n",
        "\n",
        "Example:\n",
        "        count = 0\n",
        "        while count < 5:\n",
        "            print(count)\n",
        "            count += 1 # Increments count, eventually making the condition False\n",
        "\n",
        "**14.Describe a scenario where a while loop is more suitable than a for loop.**\n",
        "\n",
        "A while loop is more suitable than a for loop when the number of iterations is not known in advance and the loop needs to continue as long as a specific condition is met.\n",
        "\n",
        "Scenario: User Input Validation\n",
        "\n",
        "Imagine you're building a program that requires the user to enter a positive number. You want to keep prompting the user until they provide valid input.\n",
        "\n",
        "Why while is suitable here:\n",
        "\n",
        "    You don't know beforehand how many times the user might enter an invalid number. It could be once, five times, or never.\n",
        "    The loop's continuation depends entirely on the condition that the entered number is not positive.\n",
        "\n",
        "Example using while loop:\n",
        "Python\n",
        "\n",
        "user_input = -1 # Initialize with an invalid value to enter the loop\n",
        "\n",
        "while user_input <= 0:\n",
        "    try:\n",
        "        user_input = int(input(\"Please enter a positive number: \"))\n",
        "        if user_input <= 0:\n",
        "            print(\"Error: The number must be positive. Please try again.\")\n",
        "    except ValueError:\n",
        "        print(\"Error: Invalid input. Please enter an integer.\")\n",
        "\n",
        "print(f\"You entered a valid positive number: {user_input}\")\n",
        "\n",
        "Why a for loop would be difficult/unsuitable:\n",
        "\n",
        "A for loop would require you to define a range or an iterable with a fixed number of elements. Since you don't know how many attempts the user will need, you wouldn't be able to define a suitable range for a for loop for this validation scenario. You could, in theory, use a for loop with a very large range and break out, but that would be an inefficient and less intuitive solution compared to a while loop.\n"
      ],
      "metadata": {
        "id": "CLs92vUMnj10"
      }
    },
    {
      "cell_type": "markdown",
      "source": [],
      "metadata": {
        "id": "TEntlAA-nIiD"
      }
    },
    {
      "cell_type": "code",
      "source": [
        "\n",
        "# 1. Print \"Hello, World!\"\n",
        "\n",
        "print(\"Hello, World!\")"
      ],
      "metadata": {
        "colab": {
          "base_uri": "https://localhost:8080/"
        },
        "id": "IHMSqacqqFcm",
        "outputId": "d5a842bf-0ba6-4a6d-dae5-92870a63513f"
      },
      "execution_count": 1,
      "outputs": [
        {
          "output_type": "stream",
          "name": "stdout",
          "text": [
            "Hello, World!\n"
          ]
        }
      ]
    },
    {
      "cell_type": "code",
      "source": [
        "# 2.Display Your Name and Age\n",
        "\n",
        "\n",
        "name = \"Gowthaman\"\n",
        "age = 26\n",
        "\n",
        "print(\"My name is\", name)\n",
        "print(\"I am\", age, \"years old.\")"
      ],
      "metadata": {
        "colab": {
          "base_uri": "https://localhost:8080/"
        },
        "id": "O0yPa0JRqPnV",
        "outputId": "3d022f6e-e9c4-43db-8b7d-ed32ac1915bf"
      },
      "execution_count": 2,
      "outputs": [
        {
          "output_type": "stream",
          "name": "stdout",
          "text": [
            "My name is Gowthaman\n",
            "I am 26 years old.\n"
          ]
        }
      ]
    },
    {
      "cell_type": "code",
      "source": [
        "# 3. Print All Pre-defined Keywords\n",
        "\n",
        "import keyword\n",
        "\n",
        "print(\"List of Python Keywords:\")\n",
        "print(keyword.kwlist)"
      ],
      "metadata": {
        "colab": {
          "base_uri": "https://localhost:8080/"
        },
        "id": "78fnlnUgqkCr",
        "outputId": "605a0973-320c-492c-80f1-0a700dea02c6"
      },
      "execution_count": 3,
      "outputs": [
        {
          "output_type": "stream",
          "name": "stdout",
          "text": [
            "List of Python Keywords:\n",
            "['False', 'None', 'True', 'and', 'as', 'assert', 'async', 'await', 'break', 'class', 'continue', 'def', 'del', 'elif', 'else', 'except', 'finally', 'for', 'from', 'global', 'if', 'import', 'in', 'is', 'lambda', 'nonlocal', 'not', 'or', 'pass', 'raise', 'return', 'try', 'while', 'with', 'yield']\n"
          ]
        }
      ]
    },
    {
      "cell_type": "code",
      "source": [
        "\n",
        "#4. Check if a Given Word is a Python Keyword\n",
        "import keyword\n",
        "\n",
        "word_to_check = input(\"Enter a word to check if it's a Python keyword: \")\n",
        "\n",
        "if word_to_check in keyword.kwlist:\n",
        "    print(f\"'{word_to_check}' IS a Python keyword.\")\n",
        "else:\n",
        "    print(f\"'{word_to_check}' is NOT a Python keyword.\")"
      ],
      "metadata": {
        "colab": {
          "base_uri": "https://localhost:8080/"
        },
        "id": "K8AtAXiSrDz1",
        "outputId": "ec3edc86-da37-4250-f639-0ef986027f46"
      },
      "execution_count": 5,
      "outputs": [
        {
          "output_type": "stream",
          "name": "stdout",
          "text": [
            "Enter a word to check if it's a Python keyword: hello\n",
            "'hello' is NOT a Python keyword.\n"
          ]
        }
      ]
    },
    {
      "cell_type": "code",
      "source": [
        "#5.Demonstrate Mutability of List vs. Immutability of Tuple\n",
        "\n",
        "# --- List (Mutable) ---\n",
        "my_list = [10, 20, 30]\n",
        "print(\"Original list:\", my_list, \"ID:\", id(my_list))\n",
        "\n",
        "# Modify an element in the list\n",
        "my_list[1] = 25\n",
        "print(\"Modified list:\", my_list, \"ID (should be same):\", id(my_list))\n",
        "print(\"The list object itself changed.\")\n",
        "\n",
        "# --- Tuple (Immutable) ---\n",
        "my_tuple = (100, 200, 300)\n",
        "print(\"\\nOriginal tuple:\", my_tuple, \"ID:\", id(my_tuple))\n",
        "\n",
        "# Attempt to modify an element in the tuple\n",
        "try:\n",
        "    my_tuple[1] = 250\n",
        "except TypeError as e:\n",
        "    print(f\"Attempting to modify tuple element caused an error: {e}\")\n",
        "    print(\"The tuple object cannot be changed after creation.\")\n",
        "\n",
        "# If you want a 'modified' tuple, you create a new one\n",
        "new_tuple = my_tuple[:1] + (250,) + my_tuple[2:]\n",
        "print(\"New tuple (created from old):\", new_tuple, \"ID (should be different):\", id(new_tuple))"
      ],
      "metadata": {
        "colab": {
          "base_uri": "https://localhost:8080/"
        },
        "id": "SeS9OnA3rpWm",
        "outputId": "1cc73b4e-18a3-42c6-c26b-1ce37429e4e3"
      },
      "execution_count": 6,
      "outputs": [
        {
          "output_type": "stream",
          "name": "stdout",
          "text": [
            "Original list: [10, 20, 30] ID: 138999840891392\n",
            "Modified list: [10, 25, 30] ID (should be same): 138999840891392\n",
            "The list object itself changed.\n",
            "\n",
            "Original tuple: (100, 200, 300) ID: 138998953607104\n",
            "Attempting to modify tuple element caused an error: 'tuple' object does not support item assignment\n",
            "The tuple object cannot be changed after creation.\n",
            "New tuple (created from old): (100, 250, 300) ID (should be different): 138999851350976\n"
          ]
        }
      ]
    },
    {
      "cell_type": "code",
      "source": [
        "#6. Function to Demonstrate Mutable and Immutable Arguments\n",
        "\n",
        "\n",
        "def modify_arguments(immutable_arg, mutable_arg):\n",
        "    print(f\"--- Inside modify_arguments function ---\")\n",
        "    print(f\"Immutable arg (before change): {immutable_arg}, ID: {id(immutable_arg)}\")\n",
        "    print(f\"Mutable arg (before change): {mutable_arg}, ID: {id(mutable_arg)}\")\n",
        "\n",
        "    # Attempt to change the immutable argument (e.g., an int)\n",
        "    immutable_arg = immutable_arg + 1\n",
        "    print(f\"Immutable arg (after change): {immutable_arg}, ID: {id(immutable_arg)} (New ID implies new object)\")\n",
        "\n",
        "    # Change the mutable argument (e.g., a list) in-place\n",
        "    mutable_arg.append(4)\n",
        "    print(f\"Mutable arg (after change): {mutable_arg}, ID: {id(mutable_arg)} (Same ID implies modified object)\")\n",
        "    print(f\"--- End of function ---\")\n",
        "\n",
        "\n",
        "# --- Demonstrate with immutable (int) and mutable (list) ---\n",
        "my_int = 10\n",
        "my_list = [1, 2, 3]\n",
        "\n",
        "print(f\"Before function call:\")\n",
        "print(f\"my_int: {my_int}, ID: {id(my_int)}\")\n",
        "print(f\"my_list: {my_list}, ID: {id(my_list)}\")\n",
        "\n",
        "modify_arguments(my_int, my_list)\n",
        "\n",
        "print(f\"\\nAfter function call:\")\n",
        "# my_int remains unchanged because an integer is immutable; a new object was created inside the function.\n",
        "print(f\"my_int (after function): {my_int}, ID: {id(my_int)} (Still original ID)\")\n",
        "\n",
        "# my_list is changed because a list is mutable, and the function modified the original object.\n",
        "print(f\"my_list (after function): {my_list}, ID: {id(my_list)} (Still original ID, but content changed)\")\n",
        "\n"
      ],
      "metadata": {
        "colab": {
          "base_uri": "https://localhost:8080/"
        },
        "id": "MwQaz6GOsOZP",
        "outputId": "95ff2a9d-45fa-4c17-9d73-8c0f10068a7b"
      },
      "execution_count": 8,
      "outputs": [
        {
          "output_type": "stream",
          "name": "stdout",
          "text": [
            "Before function call:\n",
            "my_int: 10, ID: 10758024\n",
            "my_list: [1, 2, 3], ID: 138999840858112\n",
            "--- Inside modify_arguments function ---\n",
            "Immutable arg (before change): 10, ID: 10758024\n",
            "Mutable arg (before change): [1, 2, 3], ID: 138999840858112\n",
            "Immutable arg (after change): 11, ID: 10758056 (New ID implies new object)\n",
            "Mutable arg (after change): [1, 2, 3, 4], ID: 138999840858112 (Same ID implies modified object)\n",
            "--- End of function ---\n",
            "\n",
            "After function call:\n",
            "my_int (after function): 10, ID: 10758024 (Still original ID)\n",
            "my_list (after function): [1, 2, 3, 4], ID: 138999840858112 (Still original ID, but content changed)\n"
          ]
        }
      ]
    },
    {
      "cell_type": "code",
      "source": [
        "#7. Here are the Python programs you requested, along with explanations:\n",
        "\n",
        "try:\n",
        "    num1 = float(input(\"Enter the first number: \"))\n",
        "    num2 = float(input(\"Enter the second number: \"))\n",
        "\n",
        "    print(f\"\\n--- Results ---\")\n",
        "    print(f\"Addition: {num1} + {num2} = {num1 + num2}\")\n",
        "    print(f\"Subtraction: {num1} - {num2} = {num1 - num2}\")\n",
        "    print(f\"Multiplication: {num1} * {num2} = {num1 * num2}\")\n",
        "\n",
        "    if num2 != 0:\n",
        "        print(f\"Division: {num1} / {num2} = {num1 / num2}\")\n",
        "    else:\n",
        "        print(\"Division by zero is not possible.\")\n",
        "\n",
        "except ValueError:\n",
        "    print(\"Invalid input. Please enter valid numbers.\")"
      ],
      "metadata": {
        "colab": {
          "base_uri": "https://localhost:8080/"
        },
        "id": "McFRflFksova",
        "outputId": "38d5a648-eec1-466c-f159-c1c95f1c2e0c"
      },
      "execution_count": 10,
      "outputs": [
        {
          "output_type": "stream",
          "name": "stdout",
          "text": [
            "Enter the first number: 11\n",
            "Enter the second number: 25\n",
            "\n",
            "--- Results ---\n",
            "Addition: 11.0 + 25.0 = 36.0\n",
            "Subtraction: 11.0 - 25.0 = -14.0\n",
            "Multiplication: 11.0 * 25.0 = 275.0\n",
            "Division: 11.0 / 25.0 = 0.44\n"
          ]
        }
      ]
    },
    {
      "cell_type": "code",
      "source": [
        "#8. Demonstrate the Use of Logical Operators\n",
        "\n",
        "\n",
        "\n",
        "age = 25\n",
        "has_license = True\n",
        "is_student = False\n",
        "\n",
        "print(f\"Age: {age}, Has License: {has_license}, Is Student: {is_student}\\n\")\n",
        "\n",
        "# --- AND operator ---\n",
        "# Both conditions must be True\n",
        "can_drive_legally = (age >= 18) and has_license\n",
        "print(f\"Can drive legally (age >= 18 AND has_license): {can_drive_legally}\")\n",
        "\n",
        "# --- OR operator ---\n",
        "# At least one condition must be True\n",
        "eligible_for_discount = (age < 18) or is_student\n",
        "print(f\"Eligible for student/child discount (age < 18 OR is_student): {eligible_for_discount}\")\n",
        "\n",
        "# --- NOT operator ---\n",
        "# Reverses the boolean value\n",
        "not_a_student = not is_student\n",
        "print(f\"Not a student (NOT is_student): {not_a_student}\")\n",
        "\n",
        "# Combining operators\n",
        "complex_condition = (age > 20 and has_license) or (not is_student)\n",
        "print(f\"Complex condition ((age > 20 AND has_license) OR (NOT is_student)): {complex_condition}\")"
      ],
      "metadata": {
        "colab": {
          "base_uri": "https://localhost:8080/"
        },
        "id": "mCETjXy5s_Pv",
        "outputId": "9a9599ce-f762-4946-efe4-7ea5b699d486"
      },
      "execution_count": 12,
      "outputs": [
        {
          "output_type": "stream",
          "name": "stdout",
          "text": [
            "Age: 25, Has License: True, Is Student: False\n",
            "\n",
            "Can drive legally (age >= 18 AND has_license): True\n",
            "Eligible for student/child discount (age < 18 OR is_student): False\n",
            "Not a student (NOT is_student): True\n",
            "Complex condition ((age > 20 AND has_license) OR (NOT is_student)): True\n"
          ]
        }
      ]
    },
    {
      "cell_type": "code",
      "source": [
        "#9.Convert User Input from String to Integer, Float, and Boolean Types\n",
        "\n",
        "\n",
        "\n",
        "user_input_str = input(\"Enter some text or a number: \")\n",
        "\n",
        "# --- Convert to Integer ---\n",
        "try:\n",
        "    int_value = int(user_input_str)\n",
        "    print(f\"\\nConverted to Integer: {int_value}, Type: {type(int_value)}\")\n",
        "except ValueError:\n",
        "    print(f\"\\nCould not convert '{user_input_str}' to Integer.\")\n",
        "\n",
        "# --- Convert to Float ---\n",
        "try:\n",
        "    float_value = float(user_input_str)\n",
        "    print(f\"Converted to Float: {float_value}, Type: {type(float_value)}\")\n",
        "except ValueError:\n",
        "    print(f\"Could not convert '{user_input_str}' to Float.\")\n",
        "\n",
        "# --- Convert to Boolean ---\n",
        "# In Python, an empty string \"\" is False, any non-empty string is True.\n",
        "# For numbers, 0 is False, any non-zero number is True.\n",
        "bool_value = bool(user_input_str)\n",
        "print(f\"Converted to Boolean: {bool_value}, Type: {type(bool_value)}\")\n",
        "\n",
        "# Special case for \"True\" or \"False\" strings (case-insensitive for more practical use)\n",
        "if user_input_str.lower() == 'true':\n",
        "    print(f\"Interpreted as specific boolean True from string: {True}\")\n",
        "elif user_input_str.lower() == 'false':\n",
        "    print(f\"Interpreted as specific boolean False from string: {False}\")"
      ],
      "metadata": {
        "colab": {
          "base_uri": "https://localhost:8080/"
        },
        "id": "vygLinfDtbB_",
        "outputId": "15875940-71b4-435f-fba4-07c168f9d70b"
      },
      "execution_count": 14,
      "outputs": [
        {
          "output_type": "stream",
          "name": "stdout",
          "text": [
            "Enter some text or a number: 3\n",
            "\n",
            "Converted to Integer: 3, Type: <class 'int'>\n",
            "Converted to Float: 3.0, Type: <class 'float'>\n",
            "Converted to Boolean: True, Type: <class 'bool'>\n"
          ]
        }
      ]
    },
    {
      "cell_type": "code",
      "source": [
        "#10.Demonstrate Type Casting with List Elements\n",
        "\n",
        "\n",
        "original_list_of_strings = [\"1\", \"2.5\", \"3\", \"4.0\", \"5\"]\n",
        "print(\"Original list of strings:\", original_list_of_strings)\n",
        "\n",
        "# --- Convert all elements to integers ---\n",
        "integer_list = []\n",
        "for item in original_list_of_strings:\n",
        "    try:\n",
        "        integer_list.append(int(float(item))) # Convert to float first to handle \"2.5\" or \"4.0\"\n",
        "    except ValueError:\n",
        "        integer_list.append(None) # Append None if conversion fails for that item\n",
        "print(\"List converted to integers (where possible):\", integer_list)\n",
        "\n",
        "# --- Convert all elements to floats ---\n",
        "float_list = [float(item) for item in original_list_of_strings] # Using a list comprehension\n",
        "print(\"List converted to floats:\", float_list)\n",
        "\n",
        "# --- Convert all elements back to strings ---\n",
        "string_list = [str(item) for item in float_list] # Convert from float back to string\n",
        "print(\"List converted back to strings:\", string_list)"
      ],
      "metadata": {
        "colab": {
          "base_uri": "https://localhost:8080/"
        },
        "id": "Jy8a5COWtw6J",
        "outputId": "7dac08db-5739-4c87-d0af-571ca1c497cb"
      },
      "execution_count": 15,
      "outputs": [
        {
          "output_type": "stream",
          "name": "stdout",
          "text": [
            "Original list of strings: ['1', '2.5', '3', '4.0', '5']\n",
            "List converted to integers (where possible): [1, 2, 3, 4, 5]\n",
            "List converted to floats: [1.0, 2.5, 3.0, 4.0, 5.0]\n",
            "List converted back to strings: ['1.0', '2.5', '3.0', '4.0', '5.0']\n"
          ]
        }
      ]
    },
    {
      "cell_type": "code",
      "source": [
        " #11.Check if a Number is Positive, Negative, or Zero\n",
        "\n",
        "\n",
        "try:\n",
        "    number = float(input(\"Enter a number: \"))\n",
        "\n",
        "    if number > 0:\n",
        "        print(f\"The number {number} is positive.\")\n",
        "    elif number < 0:\n",
        "        print(f\"The number {number} is negative.\")\n",
        "    else: # This covers the case where number is 0\n",
        "        print(f\"The number {number} is zero.\")\n",
        "\n",
        "except ValueError:\n",
        "    print(\"Invalid input. Please enter a valid number.\")\n",
        "\n"
      ],
      "metadata": {
        "colab": {
          "base_uri": "https://localhost:8080/"
        },
        "id": "nHgKSsD8uBf9",
        "outputId": "36800688-8090-4a78-e6a4-1288689e1d8e"
      },
      "execution_count": 16,
      "outputs": [
        {
          "output_type": "stream",
          "name": "stdout",
          "text": [
            "Enter a number: 23\n",
            "The number 23.0 is positive.\n"
          ]
        }
      ]
    },
    {
      "cell_type": "code",
      "source": [
        "#12. for Loop to Print Numbers from 1 to 10\n",
        "\n",
        "\n",
        "\n",
        "print(\"Numbers from 1 to 10 using a for loop:\")\n",
        "for i in range(1, 11): # range(start, stop) generates numbers from start up to (but not including) stop\n",
        "    print(i)\n",
        "\n"
      ],
      "metadata": {
        "colab": {
          "base_uri": "https://localhost:8080/"
        },
        "id": "RRz8ny3Yua-x",
        "outputId": "6b6292bb-b770-4338-cead-ee6ec325ad27"
      },
      "execution_count": 17,
      "outputs": [
        {
          "output_type": "stream",
          "name": "stdout",
          "text": [
            "Numbers from 1 to 10 using a for loop:\n",
            "1\n",
            "2\n",
            "3\n",
            "4\n",
            "5\n",
            "6\n",
            "7\n",
            "8\n",
            "9\n",
            "10\n"
          ]
        }
      ]
    },
    {
      "cell_type": "code",
      "source": [
        "#13. Find the Sum of All Even Numbers Between 1 and 50\n",
        "\n",
        "\n",
        "sum_of_evens = 0\n",
        "\n",
        "print(\"Even numbers between 1 and 50:\")\n",
        "for number in range(1, 51): # Check numbers from 1 to 50\n",
        "    if number % 2 == 0:     # Check if the number is even\n",
        "        print(number, end=\" \") # Print even number\n",
        "        sum_of_evens += number\n",
        "\n",
        "print(f\"\\n\\nSum of all even numbers between 1 and 50: {sum_of_evens}\")\n",
        "\n"
      ],
      "metadata": {
        "colab": {
          "base_uri": "https://localhost:8080/"
        },
        "id": "XtnbpOqQue9x",
        "outputId": "976eb8f3-6078-4159-9121-81b411c12cd4"
      },
      "execution_count": 18,
      "outputs": [
        {
          "output_type": "stream",
          "name": "stdout",
          "text": [
            "Even numbers between 1 and 50:\n",
            "2 4 6 8 10 12 14 16 18 20 22 24 26 28 30 32 34 36 38 40 42 44 46 48 50 \n",
            "\n",
            "Sum of all even numbers between 1 and 50: 650\n"
          ]
        }
      ]
    },
    {
      "cell_type": "code",
      "source": [
        "#14. Reverse a String Using a while Loop\n",
        "\n",
        "\n",
        "\n",
        "original_string = input(\"Enter a string to reverse: \")\n",
        "reversed_string = \"\"\n",
        "index = len(original_string) - 1 # Start from the last character's index\n",
        "\n",
        "while index >= 0:\n",
        "    reversed_string += original_string[index] # Add the character to the reversed string\n",
        "    index -= 1 # Move to the previous character\n",
        "\n",
        "print(f\"Original string: {original_string}\")\n",
        "print(f\"Reversed string: {reversed_string}\")\n",
        "\n"
      ],
      "metadata": {
        "colab": {
          "base_uri": "https://localhost:8080/"
        },
        "id": "LtEm6tUPujV1",
        "outputId": "bf5895ee-8b7f-4873-eb95-ee34424e53e5"
      },
      "execution_count": 19,
      "outputs": [
        {
          "output_type": "stream",
          "name": "stdout",
          "text": [
            "Enter a string to reverse: gowthaman\n",
            "Original string: gowthaman\n",
            "Reversed string: namahtwog\n"
          ]
        }
      ]
    },
    {
      "cell_type": "code",
      "source": [
        "#15. Calculate the Factorial of a Number Using a while Loop\n",
        "\n",
        "\n",
        "\n",
        "try:\n",
        "    num = int(input(\"Enter a non-negative integer to calculate its factorial: \"))\n",
        "\n",
        "    if num < 0:\n",
        "        print(\"Factorial is not defined for negative numbers.\")\n",
        "    elif num == 0:\n",
        "        print(\"The factorial of 0 is 1.\")\n",
        "    else:\n",
        "        factorial = 1\n",
        "        current_num = num # Start multiplying from the number itself\n",
        "\n",
        "        while current_num > 0:\n",
        "            factorial *= current_num # Multiply factorial by current_num\n",
        "            current_num -= 1         # Decrement current_num\n",
        "\n",
        "        print(f\"The factorial of {num} is {factorial}.\")\n",
        "\n",
        "except ValueError:\n",
        "    print(\"Invalid input. Please enter an integer.\")\n",
        ""
      ],
      "metadata": {
        "colab": {
          "base_uri": "https://localhost:8080/"
        },
        "id": "bDpghqhduqRH",
        "outputId": "ce4d752b-461c-4fa3-e384-9f13ff73175c"
      },
      "execution_count": 21,
      "outputs": [
        {
          "output_type": "stream",
          "name": "stdout",
          "text": [
            "Enter a non-negative integer to calculate its factorial: 12\n",
            "The factorial of 12 is 479001600.\n"
          ]
        }
      ]
    }
  ]
}